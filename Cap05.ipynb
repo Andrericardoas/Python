{
 "cells": [
  {
   "cell_type": "code",
   "execution_count": 51,
   "metadata": {},
   "outputs": [],
   "source": [
    "pi = 3.14\n",
    "class circulo:\n",
    "    def __init__(self, raio = 5):\n",
    "        self.raio = raio\n",
    "    def area(self):\n",
    "        return (self.raio * self.raio) * pi\n",
    "    def setRaio(self, novo_raio):\n",
    "        self.raio = novo_raio\n",
    "    def getRaio(self):\n",
    "        return self.raio"
   ]
  },
  {
   "cell_type": "code",
   "execution_count": 62,
   "metadata": {},
   "outputs": [
    {
     "name": "stdout",
     "output_type": "stream",
     "text": [
      "Entre com o raio deste círculo: 8\n",
      "A área do círculo é:  200.96\n"
     ]
    }
   ],
   "source": [
    "circ = circulo(int(input('Entre com o raio deste círculo: ')))\n",
    "print('A área do círculo é: ', circ.area())"
   ]
  },
  {
   "cell_type": "code",
   "execution_count": 12,
   "metadata": {},
   "outputs": [
    {
     "name": "stdout",
     "output_type": "stream",
     "text": [
      "1 2\n"
     ]
    }
   ],
   "source": [
    "#Exercício 1\n",
    "class Rocket():     \n",
    "    def __init__(self, x=0, y=0):\n",
    "        self.x = x\n",
    "        self.y = y        \n",
    "    def move_rocket(self, x_increment=0, y_increment=1):\n",
    "        self.x += x_increment\n",
    "        self.y += y_increment        \n",
    "    def print_rocket(self):\n",
    "        print(self.x, self.y)\n",
    "roc1 = Rocket(1,2)\n",
    "roc1.print_rocket()"
   ]
  },
  {
   "cell_type": "code",
   "execution_count": 112,
   "metadata": {},
   "outputs": [],
   "source": [
    "#Exercício 2 - Crie uma classe chamada Pessoa() com os atributos: nome, cidade, telefone e e-mail. Use pelo menos 2\n",
    "# métodos especiais na sua classe. Crie um objeto da sua classe e faça uma chamada a pelo menos um dos seus métodos\n",
    "# especiais.\n",
    "class pessoa(): #Criando a classe pessoa\n",
    "    def __init__(self,nome,cidade,telefone,email): #criando a função de incicialização\n",
    "        self.nome = nome #Definindo o atributo nome\n",
    "        self.cidade = cidade #definindo o atributo cidade\n",
    "        self.telefone = telefone #definindo o atributo telefone\n",
    "        self.email = email #definindo o atributo email\n",
    "    def printpess(self): #definindo a função que irá imprimir  os dados \n",
    "        return print('Nome: %s \\nCidade: %s \\nTelefone: %s \\nE-Mail: %s '\\ #instrução de impressão dos dados em tela \n",
    "        %(self.nome,self.cidade,self.telefone,self.email)) #continuação da impressão dos dados, separado para melhor organização\n",
    "pess1 = pessoa('André','Linhares','995838367','AndreRicardoas@outlook.com') #Criando o objeto 'pess1' na classe pessoa\n",
    "pess1.printpess() #chamando a função printpess"
   ]
  },
  {
   "cell_type": "code",
   "execution_count": 9,
   "metadata": {},
   "outputs": [],
   "source": [
    "# Exercício 3 - Crie a classe Smartphone com 2 atributos, tamanho e interface e crie a classe MP3Player com os \n",
    "# atributos capacidade. A classe MP3player deve herdar os atributos da classe Smartphone.\n",
    "class smartphone(): #Criação da superclasse 'smartphone'\n",
    "    def __init__(self,tamanho,interface): \n",
    "        self.tamanho = tamanho\n",
    "        self.interface = interface\n",
    "    def prin1 (self):\n",
    "        print('Tamanho: %s\\nInterface: %s'%(self.tamanho,self.interface))\n",
    "class mp3player(smartphone): #'Criação da subclasse mp3player'\n",
    "    def __init__(self,tamanho1,interface1,capacidade): #definindo as variáveis da subclasse, necessário a criação de varáveis genéricas para receber as variáveis da superclasse\n",
    "        self.capacidade = capacidade\n",
    "        smartphone.__init__(self,tamanho1,interface1) #etapa que recebe as variáveis da superclasse e armazena nas variáveis genericas\n",
    "    def prin(self):\n",
    "        smartphone.prin1(self)\n",
    "        print('Capacidade: %s'%(self.capacidade))\n",
    "music1 = mp3player('2pl','iOS',\"128gb\")\n",
    "music1.prin()"
   ]
  },
  {
   "cell_type": "code",
   "execution_count": null,
   "metadata": {},
   "outputs": [],
   "source": [
    "#fim do cap 05"
   ]
  }
 ],
 "metadata": {
  "kernelspec": {
   "display_name": "Python 3",
   "language": "python",
   "name": "python3"
  }
 },
 "nbformat": 4,
 "nbformat_minor": 4
}
